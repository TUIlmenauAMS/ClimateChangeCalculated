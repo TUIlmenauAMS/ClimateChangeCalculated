{
  "nbformat": 4,
  "nbformat_minor": 0,
  "metadata": {
    "colab": {
      "name": "climateChangeCalculated5.ipynb",
      "provenance": [],
      "include_colab_link": true
    }
  },
  "cells": [
    {
      "cell_type": "markdown",
      "metadata": {
        "id": "view-in-github",
        "colab_type": "text"
      },
      "source": [
        "<a href=\"https://colab.research.google.com/github/TUIlmenauAMS/ClimateChangeCalculated/blob/main/climateChangeCalculated5.ipynb\" target=\"_parent\"><img src=\"https://colab.research.google.com/assets/colab-badge.svg\" alt=\"Open In Colab\"/></a>"
      ]
    },
    {
      "cell_type": "markdown",
      "source": [
        "# <center> Climate Change Calculated 5\n",
        "## <center> How much space do we need for renewable energy?\n",
        "### <center> Prof. Dr.-Ing. G. Schuller\n",
        "\n",
        "### <center> Technical University Ilmenau\n",
        "\n",
        "### <center> Institute for Media Technology\n",
        "\n"
      ],
      "metadata": {
        "id": "1LFy_ywbUvmm"
      }
    },
    {
      "cell_type": "markdown",
      "source": [
        "### This time we answer the question: How much space do we need?\n",
        "\n",
        "\n",
        "In part 4 we answered the question: What can we do?\n",
        "* There we saw that renewable energy is efficient and cheap enough to compete with and replace fossil energy.\n",
        "* Now we answer the question: How much space will it need?\n"
      ],
      "metadata": {
        "id": "9ITI6C4LUvmr"
      }
    },
    {
      "cell_type": "markdown",
      "source": [
        ""
      ],
      "metadata": {
        "id": "-RSdmCs9s0_A"
      }
    },
    {
      "cell_type": "markdown",
      "source": [
        "## Climate:\n",
        "* We had an unusually warm winter in 2019/20, almost without snow and frost.\n",
        "* During the Corona restrictions, the air became noticeably clearer.\n",
        "* Less pollution, more sunshine.\n",
        "* This shows the short-term effects of air pollution (and its removal)\n",
        "* In winter 20/21 we had the following extremes: Extreme cold and snowfall, then unusual heat in February\n",
        "\n",
        "\n",
        "\n",
        "\n",
        "\n",
        "\n",
        "\n",
        "\n"
      ],
      "metadata": {
        "id": "jmXDI2wWUvmr"
      }
    },
    {
      "cell_type": "markdown",
      "source": [
        "* At the end of spring and summer 2021 there were already extreme temperatures in the northwest of the USA and in western Canada. Almost 50 C were reached there, in areas that usually have below 30C at the time!\n",
        "* In Germany, high temperatures and permanent extreme heavy rains alternate with flood disasters as in western Germany.\n",
        "* Record values are not only slightly exceeded globally, but equally significant! A characteristic of climate change.\n"
      ],
      "metadata": {
        "id": "VxXFwE0rUvms"
      }
    },
    {
      "cell_type": "markdown",
      "source": [
        "* Pandemics such as Corona pandemic become more common as a result of climate change, because it shifts habitats and more often skips new viruses to new species.\n",
        "* MunicRe Reinsurance calculates the rapidly increasing costs of weather-related natural disasters from 1980 to 2019:\n",
        "https://www.munichre.com/de/risiken/extremwetter.html\n",
        "\n",
        "* This indicates once again the urgency shown in my previous videos to reduce the global fossil CO2 emission to zero.\n"
      ],
      "metadata": {
        "id": "hkPIvhGoUvms"
      }
    },
    {
      "cell_type": "markdown",
      "source": [
        "## What is the required area for renewable energy in Germany?\n",
        "* Total electricity consumption from 2002 to 2019 (the pre-Corona year) and share of energy sources:\n",
        "* [Fraunhofer ISE, Power Generation 2019](https://www.ise.fraunhofer.de/content/dam/ise/de/documents/news/2019/Stromerzeugung_2019_2.pdf)\n",
        "* The graph on page 14 shows: From 2002 to 2019 only a small increase in electricity generation and consumption.\n",
        "* In recent years, power consumption has even **decreased**!\n"
      ],
      "metadata": {
        "id": "ou8XZnJZUvmt"
      }
    },
    {
      "cell_type": "markdown",
      "source": [
        "* For an estimate of the future, we could therefore use the 2019 values.\n",
        "* 2019: Total electricity generation (p. 13) **515 TWh**.\n",
        "* Of which renewable energy sources : 237 TWh,\n",
        "* 127 TWh wind and 47 TWh solar energy.\n",
        "\n",
        "\n",
        "\n",
        "\n"
      ],
      "metadata": {
        "id": "A0m8OFtlUvmt"
      }
    },
    {
      "cell_type": "markdown",
      "source": [
        "* However, there was recently (July 2021) an estimate of the electricity consumption in 2030 by the Federal Government:\n",
        "[BMWI](https://www.bmwi.de/Redaktion/DE/Pressemitteilungen/2021/07/20210713-erste-abschaetzungen-stromverbrauch-2030.html)\n",
        "* Result: \"The mean of the forecast is **655 terawatt hours**. Among other things, 14 million electric cars, 6 million heat pumps and 30 terawatt hours of electricity for green hydrogen are included.\"\n",
        "* In other words, by 2030 we need the difference in projected consumption to the renewable energy currently produced, 655 - 237 = **418 TWh** in addition.\n",
        "\n",
        "\n",
        "**Note:**\n",
        "* **1 kWh** (Kilo Watt Stunde) = 1000 Wh = 10³ Wh =1e3 Wh\n",
        "\n",
        "* **1 TWh** (Terra Watt Stunde) = 10¹² Wh = 1e12 Wh\n",
        "\n"
      ],
      "metadata": {
        "id": "gcyAVs7lUvmu"
      }
    },
    {
      "cell_type": "markdown",
      "source": [
        "##Renewable energy yield risks\n",
        "* Renewable energies are most reliable in distribution to **different energy sources, such as wind and sun**,\n",
        "* also as seasonal compensation\n",
        "* and geographical diversity, i.e. the use of the **European electricity grid**.\n",
        "* See also: [Deutsche Wetter Dienst, Press Release 2018-03-06 Klima](https://www.dwd.de/DE/presse/pressemitteilungen/DE/2018/20180306_pressemitteilung_klima_pk_news.html)\n",
        "* Therefore my **assumption:** *Photovoltaics and wind energy should take over 50% of each*, i.e. 418/2= **209 TWh/year**,\n"
      ],
      "metadata": {
        "id": "8WC7eG59Uvmv"
      }
    },
    {
      "cell_type": "markdown",
      "source": [
        "## Energy yield per square meter of solar cells:\n"
      ],
      "metadata": {
        "id": "wDsWjL0oUvmv"
      }
    },
    {
      "cell_type": "code",
      "metadata": {
        "id": "RiypUayXUvmw",
        "outputId": "fb4d1242-c91d-41c2-ac3e-eafdf15a0a48"
      },
      "source": [
        "%%html\n",
        "<iframe src=\"https://www.energie-experten.org/erneuerbare-energien/photovoltaik/planung/ertrag.html#c27405\" width=\"900\" height=\"900\"></iframe>"
      ],
      "execution_count": null,
      "outputs": [
        {
          "output_type": "display_data",
          "data": {
            "text/html": [
              "<iframe src=\"https://www.energie-experten.org/erneuerbare-energien/photovoltaik/planung/ertrag.html#c27405\" width=\"900\" height=\"900\"></iframe>"
            ],
            "text/plain": [
              "<IPython.core.display.HTML object>"
            ]
          },
          "metadata": {
            "tags": []
          }
        }
      ]
    },
    {
      "cell_type": "markdown",
      "source": [
        "* So global radiation in Germany: approx. **1000 kWh/sqm per year**\n",
        "* Efficiency of modern solar cells: approx. 20%\n",
        "* So energy per area per year: approx. **200 kWh/sqm per year**.\n",
        "\n",
        "\n",
        "<!-- * The required area is calculated as: required energy per year/energy per area per year. -->\n",
        "<!-- * We use \"Python Sympy\" for calculating units, also to verify the accuracy of the invoice: -->\n"
      ],
      "metadata": {
        "id": "DJeuGcvWUvmx"
      }
    },
    {
      "cell_type": "markdown",
      "source": [
        "## Area required solar cells for 209 TWh per year\n",
        "Necessary Area = energy per year divided by energy per area per year =\n"
      ],
      "metadata": {
        "id": "bVSXRZh0Uvmx"
      }
    },
    {
      "cell_type": "code",
      "metadata": {
        "id": "5FySectxUvmy",
        "outputId": "6f367c54-ea1b-40e3-8cec-a1e7a321fff8"
      },
      "source": [
        "#@title  {display-mode: \"form\"}\n",
        "import sympy\n",
        "W=sympy.symbols(\"W\") #unit \"Watt\"\n",
        "h=sympy.symbols(\"h\") #unit \"hour\"\n",
        "yr=sympy.symbols(\"yr\") #unit \"Year\"\n",
        "m=sympy.symbols(\"m\") #unit \"meter\"\n",
        "EpAY= 200e3*W*h/(m**2)/yr #Energy per area per year\n",
        "EpY=209e12*W*h/yr #desired Energy per year\n",
        "print(\" = \",EpY,\"/\",EpAY, \" =\", EpY/EpAY)\n",
        "#print(\"Flaechenbedarf ist Energie pro Jahr geteilt durch Energie pro Fläche pro Jahr:\") )"
      ],
      "execution_count": null,
      "outputs": [
        {
          "output_type": "stream",
          "text": [
            " =  209000000000000.0*W*h/yr / 200000.0*W*h/(m**2*yr)  = 1045000000.0*m**2\n"
          ],
          "name": "stdout"
        }
      ]
    },
    {
      "cell_type": "markdown",
      "source": [
        "* Checking: The resulting unit (m2) is correct (\"m**2\" means m2 in Python)\n",
        "* 106 m2 is 1 square kilometre (km2)\n",
        "* This is 1045 km2.\n",
        "* This area could be easily accommodated e.g. in the German above ground lignite mines:\n",
        "* \"The surface area of German above ground lignite mines in 2006 was more than **2300 km2**\", sh.:\n"
      ],
      "metadata": {
        "id": "zy1xez7GUvmy"
      }
    },
    {
      "cell_type": "code",
      "metadata": {
        "id": "u_l0qEC5Uvmy",
        "outputId": "39f1f638-12d0-4bef-b113-8b598c57ed9c"
      },
      "source": [
        "%%html\n",
        "<iframe src=\"https://de.wikipedia.org/wiki/Braunkohlebergbau\" width=\"900\" height=\"600\"></iframe>"
      ],
      "execution_count": null,
      "outputs": [
        {
          "output_type": "display_data",
          "data": {
            "text/html": [
              "<iframe src=\"https://de.wikipedia.org/wiki/Braunkohlebergbau\" width=\"900\" height=\"600\"></iframe>"
            ],
            "text/plain": [
              "<IPython.core.display.HTML object>"
            ]
          },
          "metadata": {
            "tags": []
          }
        }
      ]
    },
    {
      "cell_type": "markdown",
      "source": [
        "* The necessary solar cells could also be installed on **roofs**\n",
        "* A great advantage of solar energy is its **decentrality**. Houses can be operated energy self-sufficiently.\n",
        "* For solar cells suitable **roof surfaces** in Germany sum up to approx. 800 million square meters, according to\n",
        "“Erneuerbare Energieträger in Deutschland: Potentiale und Kosten”\n",
        "edited by Martin Kaltschmitt, Andreas Wiese, 1993, ISBN 978-3-642-93541-1.\n",
        "* 800 million square metres are **800 square kilometres**, so the area is already almost the needed 1045 square kilometres.\n"
      ],
      "metadata": {
        "id": "Hq-lp9W9Uvmz"
      }
    },
    {
      "cell_type": "markdown",
      "source": [
        "## Needed Area for Wind Energy"
      ],
      "metadata": {
        "id": "WqnwTQgzVoWg"
      }
    },
    {
      "cell_type": "markdown",
      "source": [
        "* [Umweltbundesamt, Potential of wind energy](https://www.umweltbundesamt.de/sites/default/files/medien/378/publikationen/potenzial_der_windenergie.pdf)\n",
        "* Chapter 4.1, p.16: ... a radial distance of the 4-fold rotor diameter...\n",
        "* Hence the radial wind turbine distance is **456 m**.\n",
        "* For a square arrangement, this corresponds to an area of **456² square metres =207936 square metres**\n",
        "* Page 15: Power per wind turbine: **3.2 MW = 3.2e6 W**\n",
        "* In the summary, page 2: \"... in\n",
        "National average **2440 full hours per year**...\"\n",
        "<!-- * **Result:** Energy per year per sqm = **37.55 kWh/sqm per year** -->\n",
        "\n",
        "\n"
      ],
      "metadata": {
        "id": "Vjvn_3wIUvmz"
      }
    },
    {
      "cell_type": "markdown",
      "source": [
        "## Wind energy per square meter per year\n",
        "Energy per square meter per year = power times full hours per year divided by area =\n"
      ],
      "metadata": {
        "id": "nLkUJrsjUvmz"
      }
    },
    {
      "cell_type": "code",
      "metadata": {
        "id": "h-ZsvSg9Uvmz",
        "outputId": "a9615d7e-09fa-469b-bc18-7edfac843066"
      },
      "source": [
        "#@title  {display-mode: \"form\"}\n",
        "import sympy\n",
        "m=sympy.symbols(\"m\") #unit \"meter\"\n",
        "W=sympy.symbols(\"W\") #unit \"Watt\"\n",
        "h=sympy.symbols(\"h\") #unit \"hour\"\n",
        "yr=sympy.symbols(\"yr\") #unit \"Year\"\n",
        "P=3.2e6*W #Power of win turbine\n",
        "fr=2440*h/yr # Hours per year of this power (fraction)\n",
        "A=456**2*m**2 #Area covered by wind turbine\n",
        "EpAYwind=P*fr/A\n",
        "print(P,\"*\", fr, \"/\", A,\" = \", EpAYwind)\n",
        "#print(\"Die Energie in Wh geteilt durch die Stunden im Jahr ergibt die Leistung, in Watt pro qm \")"
      ],
      "execution_count": null,
      "outputs": [
        {
          "output_type": "stream",
          "text": [
            "3200000.0*W * 2440*h/yr / 207936*m**2  =  37550.0153893506*W*h/(m**2*yr)\n"
          ],
          "name": "stdout"
        }
      ]
    },
    {
      "cell_type": "markdown",
      "source": [
        "Also 37550 Wh pro Jahr pro qm.\n",
        "\n",
        "## Necessary area for 209 TWh of wind per year:\n",
        "Necessary area = energy needed per year divided by energy per square meter =\n"
      ],
      "metadata": {
        "id": "iV_FLqVsUvm0"
      }
    },
    {
      "cell_type": "code",
      "metadata": {
        "id": "MHppf9sYUvm0",
        "outputId": "1dfeb519-d4a0-4ee4-ae9a-b842c7ae4282"
      },
      "source": [
        "#@title {display-mode: \"form\"} \n",
        "print(\" = \", EpY, \"/\", EpAYwind, \" = \",  EpY/ EpAYwind)"
      ],
      "execution_count": null,
      "outputs": [
        {
          "output_type": "stream",
          "text": [
            " =  209000000000000.0*W*h/yr / 37550.0153893506*W*h/(m**2*yr)  =  5565909836.06557*m**2\n"
          ],
          "name": "stdout"
        }
      ]
    },
    {
      "cell_type": "markdown",
      "source": [
        "* This is about 5566 square kilometers.\n",
        "* The total area of Germany is 357386 sq km, the additional area necessary for wind power is therefore about 1.6% of it.\n",
        "* About half of the area of Germany is arable land, i.e. it would be additionally only about 3% of the arable land.\n"
      ],
      "metadata": {
        "id": "gP3aLYhLUvm0"
      }
    },
    {
      "cell_type": "markdown",
      "source": [
        "## Conclusions\n",
        "* The required renewable energy for the projected demand in 2030 can be produced **practicable in the country**.\n",
        "* For the area of the solar cells, decommissioned **above ground lignite mines** would be more than sufficient.\n",
        "* The **suitable roof areas** would be almost completely sufficient\n",
        "* For wind power, an additional **3% of the arable area** would be needed, which is still available for agriculture.\n"
      ],
      "metadata": {
        "id": "gpel9C9rUvm0"
      }
    },
    {
      "cell_type": "markdown",
      "source": [
        "* Electricity storage is needed to balance the fluctuations of wind and sun\n",
        "* More about this in a following episode\n"
      ],
      "metadata": {
        "id": "ETCX9MoyUvm0"
      }
    }
  ]
}