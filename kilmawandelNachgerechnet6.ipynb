{
  "nbformat": 4,
  "nbformat_minor": 0,
  "metadata": {
    "colab": {
      "provenance": [],
      "include_colab_link": true
    }
  },
  "cells": [
    {
      "cell_type": "markdown",
      "metadata": {
        "id": "view-in-github",
        "colab_type": "text"
      },
      "source": [
        "<a href=\"https://colab.research.google.com/github/TUIlmenauAMS/ClimateChangeCalculated/blob/main/kilmawandelNachgerechnet6.ipynb\" target=\"_parent\"><img src=\"https://colab.research.google.com/assets/colab-badge.svg\" alt=\"Open In Colab\"/></a>"
      ]
    },
    {
      "cell_type": "markdown",
      "source": [
        "# <center> Klimawandel Nachgerechnet 6 \n",
        "## <center> Politische Machtdynamik und Übergang zu Erneuerbaren Energien.\n",
        "### <center> Prof. Dr.-Ing. Gerald Schuller\n",
        "* Die Folien sind auf: https://github.com/TUIlmenauAMS/ClimateChangeCalculated/blob/main/kilmawandelNachgerechnet6.ipynb "
      ],
      "metadata": {
        "id": "7FQJGDzquEs_"
      }
    },
    {
      "cell_type": "markdown",
      "source": [
        "- Wir sahen: Der Klimawandel führt zur Verlagerung von Lebensräumen von Tieren und Pflanzen, also zu neuen Kontakten zwischen Virenträgern und damit zu mehr Pandemien und Lebensmittelknappheit. \n",
        "- Der Klimawandel führt auch zu mehr Dürren, Überschwemmungen, Stürmen und Anstieg des Meeresspiegels. \n",
        "- Dies alles führt zu Unruhen und Kriegen, und damit zu noch mehr Nahrungsmittelknappheit und steigenden Preisen für den täglichen Bedarf (Verknappungen). \n",
        "- Dies führt zu einer weiteren **Destabilisierung bereits instabiler Länder**, insbesondere Diktaturen. \n",
        "\n",
        "- Länder mit großen Reserven fossiler Energie können sich zu sehr auf ihre Ausbeutung verlassen, was diktatorische Entwicklungen fördert, da dafür keine hochentwickelte Dienstleistungsgesellschaft benötigt wird. Beispiel: Russland, Saudi-Arabien.\n"
      ],
      "metadata": {
        "id": "MD81A-42uEtE"
      }
    },
    {
      "cell_type": "markdown",
      "source": [
        "## Gewaltenteilung \n",
        "- bedeutet: \n",
        "  - die Schaffung von Gesetzen (Politik), \n",
        "  - die Durchsetzung von Gesetzen (Polizei) und \n",
        "  - die Auslegung von Gesetzen (Gerechtigkeit) \n",
        "- sollte von unabhängigen, getrennten Einheiten durchgeführt werden. \n",
        "### Separation of powers index: \n",
        "- https://govdata360.worldbank.org/indicators/h663779c8?country=BRA&indicator=28775&viz=line_chart&years=2006,2020\n",
        "- Höher ist besser, Skala 1 bis 10 \n",
        "- Russland im Jahr 2020: 3, \n",
        "- im Vergleich: Tschechische Republik: 10"
      ],
      "metadata": {
        "id": "IKZ_vLi4uEtF"
      }
    },
    {
      "cell_type": "markdown",
      "source": [
        "### Judicial Independence score:\n",
        "- https://www.maplecroft.com/insights/analyse/separation-of-powers-under-attack-in-45-countries/\n",
        "- Siehe Abb. 1, Entwicklung im Laufe der Zeit: \n",
        "- Die Schweiz hat eine Punktzahl von 135, \n",
        "- Russland nur 15 im Jahr 2021, Rückgang von 40 im Jahr 2020, immer schlechter als DR Kongo, \n",
        "- China im Jahr 2021 nur 3, Rückgang von 29 im Jahr 2018 \n",
        "\n",
        "\n",
        "\n",
        "\n",
        "\n"
      ],
      "metadata": {
        "id": "5gafBCnruEtG"
      }
    },
    {
      "cell_type": "markdown",
      "source": [
        "### “The Global Rule of Law”:\n",
        "- https://worldjusticeproject.org/sites/default/files/files/introduction_key_findings.pdf\n",
        "- Beachte: Seite 16: Russland ist auf Platz 80 von 100 gezeigten Ländern."
      ],
      "metadata": {
        "id": "uoONNGznuEtG"
      }
    },
    {
      "cell_type": "markdown",
      "source": [
        "### Interessant auch: Demokratieindex:\n",
        "- https://en.wikipedia.org/wiki/Democracy_Index \n",
        "- Russland im Jahr 2021: Rang 124, Ergebnis 3.24, sank von 5,02 im Jahr 2006. \n",
        "- Vergleich: Norwegen im Jahr 2021: Rang 1, Wert: 9,75. \n",
        "\n",
        "### Russlands politisches System: \n",
        "- https://de.wikipedia.org/wiki/Politisches_System_Russlands\n",
        "- Beobachten Sie die Abbildung: Der Präsident hat Macht über alle Institutionen, es gibt keine Gewaltenteilung. \n",
        "\n",
        "### Hauptexporte der Länder:\n",
        "- https://worldpopulationreview.com/country-rankings/exports-by-country \n",
        "- Russland: Rohöl, das relativ wenige Menschen braucht, \n",
        "- Spanien: Autos. Es hat den gleichen Gesamtexportwert, aber Produkte wie Autos erfordern eine hoch entwickelte Service-basierte Gesellschaft. \n"
      ],
      "metadata": {
        "id": "3j1lc5tZuEtH"
      }
    },
    {
      "cell_type": "markdown",
      "source": [
        "## Machtdynamik von Diktaturen \n",
        "\n",
        "* Die Diktatoren wissen, dass sie nicht die Mehrheit der Menschen haben, die sie unterstützen \n",
        "* daher müssen sie Gewalt und Unterdrückung einsetzen, um an der Macht zu bleiben \n",
        "* Ohne Gewaltenteilung (Politik, Justiz, Exekutive) ist dies möglich\n",
        "* Dies ermöglicht auch Korruption \n",
        "* und deaktiviert die Rechtsstaatlichkeit \n",
        "* Kraft erzeugt entgegengesetzte Kraft \n",
        "* Dies führt zu einem Zyklus erhöhter Kraft \n"
      ],
      "metadata": {
        "id": "cdgJiYiXuEtI"
      }
    },
    {
      "cell_type": "markdown",
      "source": [
        "* Wenn die Grenze der Gewalt erreicht ist, sucht der Diktator mehr Macht, indem er versucht, andere Länder zu erobern \n",
        "* Jetzt bricht auch nicht nur das nationale, sondern auch das internationale Recht.\n",
        "* Auf diese Weise schafft er auch einen gemeinsamen Feind, und Ablenkungen von Problemen \n"
      ],
      "metadata": {
        "id": "FS_n9l2GuEtI"
      }
    },
    {
      "cell_type": "markdown",
      "source": [
        "* Die Unterdrückung in Diktaturen funktioniert besser für ungebildete Menschen, \n",
        "* das ist, warum in Diktaturen Bildungssysteme sind trocken von Geld, \n",
        "* und die Hochschulbildung ist abwechslungsreich. \n"
      ],
      "metadata": {
        "id": "jiipUQ8suEtJ"
      }
    },
    {
      "cell_type": "markdown",
      "source": [
        "* Die Eroberung eines Landes geht um die Unterwerfung des Volkes. \n",
        "* Dort werden nicht nur Militär und Politiker angegriffen, sondern meist Zivilisten. \n",
        "* Der Zweck ist, sie in die Unterwerfung zu bombardieren. \n",
        "* In dieser Weltanschauung haben die Menschen keine unabhängigen Rechte, sondern sind Subjekte des Staates. \n",
        "* Putin akzeptierte daher nicht die Entscheidung der osteuropäischen Länder, Nato beizutreten, anstatt Russland beizutreten.\n",
        "* Mir scheint, das ist es, was jetzt in der Ukraine passiert. \n"
      ],
      "metadata": {
        "id": "u1zzh1jKuEtK"
      }
    },
    {
      "cell_type": "markdown",
      "source": [
        "* Die Bedeutung der Eroberung von Ländern für die Macht eines Diktators zeigt auch Putins Rede kurz vor dem Krieg gegen die Ukraine. \n",
        "* Dort rechtfertigt und verkündet er seine Handlungen mit seinem Geschichtsbild:\n",
        "\n",
        "* Deutsch: \n",
        "https://www.spiegel.de/ausland/der-kremlchef-und-seine-drohungen-gegen-den-westen-putins-ukraine-rede-im-wortlaut-a-fab35f1d-3a2e-494c-af44-72798d2aa42c\n",
        "\n",
        "* Auf Englisch: \n",
        "(http://edition.cnn.com/2022/02/22/europe/ukraine-putin-reaction-kyiv-intl/index.html \n",
        "\n",
        "* Auf Englisch direkt aus dem Kreml: \n",
        "http://en.kremlin.ru/events/president/news/67843"
      ],
      "metadata": {
        "id": "YoVaaB7tuEtK"
      }
    },
    {
      "cell_type": "markdown",
      "source": [
        "## Power Dynamics of Democracies\n",
        "\n",
        "* Der gewählte Führer weiß, dass er die Mehrheit des Volkes hinter sich hat.* Die einzige Möglichkeit, die Macht zu erhöhen, ist, mehr Stimmen zu erhalten. \n",
        "* Dies kann dies tun, indem sie die Wähler überzeugen. \n",
        "* Überzeugen funktioniert besser, wenn die Menschen gebildet werden. \n",
        "* Deshalb sehen Sie hochentwickelte Bildungssysteme in Demokratien. \n"
      ],
      "metadata": {
        "id": "1XM_WqqauEtK"
      }
    },
    {
      "cell_type": "markdown",
      "source": [],
      "metadata": {
        "id": "GkVlgWmX10Od"
      }
    },
    {
      "cell_type": "markdown",
      "source": [
        "* Die Führer in Demokratien haben auch keinen Anreiz, andere Länder zu erobern, weil es keine Wähler gibt. \n",
        "* Der einzige Zweck, den Demokratien für das Militär haben, ist, Diktaturen abzuschrecken, um sie anzugreifen. \n",
        "* Wenn sie angegriffen werden, ist ihr Militär bereits gescheitert. \n",
        "* In diesem Fall wird das Militär einer Demokratie als Strafe verwendet, um weitere Angriffe zu verhindern, \n",
        "* So werden sie alle Vorteile, die der Angreifer gewonnen haben könnte, plus einige mehr, von denen, die von dem Angriff profitiert (Politiker, die Armee), und dann wieder verlassen."
      ],
      "metadata": {
        "id": "iQQCDLwRuEtK"
      }
    },
    {
      "cell_type": "markdown",
      "source": [
        "## Die deutschen Erdgasimporte \n",
        "- Deutschlands Erdgasimporte aus Russland: \n",
        "https://de.statista.com/statistik/daten/studie/1302674/umfrage/russischer-anteil-am-deutschen-gasimport/\n",
        "- 2020: Erdgaseinfuhren insgesamt: 80439 Mio. m3, aus Russland: 52464 Mio. m3, **ca. 65%**.\n",
        "- Deutschlands Strommix (Strom-Mix 2021): https://strom-report.de/strom \n",
        "- Gesamtenergie: 490 TWh \n",
        "- 23 % Windenergie, 112,7 TWh \n",
        "- 9,9 % Sonnenenergie, 48,4 TWh \n",
        "- 10,5 % Natrugas, 51,1 TWh \n",
        "- Daher könnten etwa **32 % mehr Wind- und Sonnenenergie** Erdgas als Stromquelle ersetzen. \n",
        "- Deutschlands Stromerzeugung zwischen 202 und 2019 schwankte bereits zwischen 503 und 553 TWh pro Jahr, also um ca. 50 TWh. \n",
        " - (https://www.ise.fraunhofer.de/content/dam/ise/de/documents/news/2019/Stromerzeugung_2019_2.pdf page 14)\n",
        "- Daher entspricht das **fehlende Gas** für die Stromerzeugung ** den normalen jährlichen Schwankungen**. \n",
        "\n"
      ],
      "metadata": {
        "id": "iPCkYRFquEtL"
      }
    },
    {
      "cell_type": "markdown",
      "source": [
        "## Stromreserven des deutschen Stromnetzes \n",
        "- Energiedaten für Deutschland: \n",
        "- https://energy-charts.info/\n",
        "- Klicken Sie auf: Strom - Stromerzeugung: wählen Intervall=Jahr: \n",
        "- Extremwerte: Last: mind.: 38800 MW, max.: 78800 MW = 78,8 GW \n",
        "- Das bedeutet: der maximale Stromverbrauch von 2022 in Deutschland betrug 78,8 GW \n",
        "- Klicken Sie nun auf Power- Installed power: \n",
        "- Summe, insgesamt: 221 GW, \n",
        "- ohne Erdgas (nicht einmal aus der Speicherung) und Uran (Kernkraft): 185 GW \n",
        "- Das installierte Maximum an Wind- und Sonnenenergie kann im Winter nicht erreicht werden \n",
        "- Klicken Sie auf: Strom- Stromerzeugung: wählen Intervall= Monat, wählen Januar \n",
        "- Betrachten Sie das Minimum und Maximum für Wind (Onshore und Offshore) und Solar, und nehmen Sie den Median als wahrscheinlich: \n",
        "- Mittlere Windkraft im Januar (Onshore+Offshore): ((7.26+40.65)+(0.134+0.524))/2 = **24.284 GW**\n",
        "- Mediane Sonnenenergie: 11,958/2 = **5,979 GW** \n",
        "- Medien zusammen: 24.284+5.979 = **30.2629 GW** \n",
        "- Maximal installiert für Wind und Solar: 62.98+7.77+57.31 = 128.06GW \n",
        "- Daher **erneuerbare Leistungsverlust im Januar**: 128.06-30.26= **97.8GW**\n",
        "- Daher die ** installierte Energie ohne Erdgas und Kernenergie, und mit erneuerbaren Stromverlust im Januar** = 185-97.8 = **87.2GW**. \n",
        "- Auch mit Spitzenleistung im Januar gibt es noch eine ** Leistungsreserve** von 87.2-78.8 = **8.4GW** \n",
        "- Zum Vergleich: **1 GW** entspricht in etwa der Leistung von **einem Kernkraftwerk**. \n",
        "- Daher entspricht die **Reserve auch für Januar** ca. 8 Kernkraftwerken**. \n",
        "- Dies ist ohne die Verwendung von Erdgas aus Speichertanks für die Stromerzeugung, die für Spitzenfälle behalten werden können. \n",
        "\n"
      ],
      "metadata": {
        "id": "zb_i-v4vuEtL"
      }
    },
    {
      "cell_type": "markdown",
      "source": [
        "## Erdgasmenge für die Stromerzeugung: \n",
        "\n",
        "- Erdgasenergiedichte: 10,1 Wh/L = 10,1 kWh/m3 = 10,1e9 Wh/Mio.qm (https://en.wikipedia.org/wiki/Energy_density) \n",
        "- Effizienzgaskraftwerke: ca. 30% (https://www.energy.gov/fecm/how-gas-turbine-power-plants-work) \n",
        "- Daher ist die Menge an Erdgas für Strom:"
      ],
      "metadata": {
        "id": "e1AabALbuEtL"
      }
    },
    {
      "cell_type": "code",
      "source": [
        "import sympy\n",
        "W=sympy.symbols(\"W\") #unit \"Watt\"\n",
        "h=sympy.symbols(\"h\") #unit \"hour\"\n",
        "m=sympy.symbols(\"m\") #unit \"meter\"\n",
        "#amount_of_gas. in Mio. m³: \n",
        "amount=51.1e12 *W*h /(10.1e3*W*h/(m**3)) /0.3 /1e6\n",
        "print(\"Gas amount in Million qm:\", amount, \"*Million\")"
      ],
      "metadata": {
        "id": "5-PC-NzDuEtM",
        "outputId": "e37e2cb8-f799-4022-f87b-0c9f7c81216d"
      },
      "execution_count": null,
      "outputs": [
        {
          "output_type": "stream",
          "name": "stdout",
          "text": [
            "Gas amount in Million qm: 16864.6864686469*m**3 *Million\n"
          ]
        }
      ]
    },
    {
      "cell_type": "markdown",
      "source": [
        "- Dies ist etwa **32%** des Erdgases aus Russland (80439 Mio. m3), ein bedeutender Bruchteil. \n",
        "- Gaskraftwerke sind meist **Sprecheranlagen**, die nur Spitzennachfrage liefern. \n",
        "- Daher könnte ein guter Teil durch ** Grid Batteriespeicher** ersetzt werden, wie das Tesla Megapack (https://www.tesla.com/megapack) \n",
        "- Sie werden aufgeladen, wenn es einen (erneuerbaren) Energieüberschuß** gibt, der bei Spitzennachfrage released ist. \n",
        "- Siehe auch https://www.ise.fraunhofer.de/de/leitthemen/stationaere-batteriespeicher.html"
      ],
      "metadata": {
        "id": "eoaeSF4SuEtN"
      }
    },
    {
      "cell_type": "markdown",
      "source": [
        "## Ersatz für Gas Spitzenlast Kraftwerke \n",
        "- **Beispiele** für Spitzenlast Kraftwerk Ersatz in den USA sind hier beschrieben: https://www.psehealthyenergy.org/our-work/energy-storage-peaker-plant-replacement-project/\n",
        "- Beispiele aus Kalifornien (**Moss Landing Kraftwerk**), \n",
        "\"Die Energiespeicherung ist eigentlich die wahre Brücke zu einer sauberen Energie-Zukunft\": https://e360.yale.edu/features/in-boost-for-renewables-grid-scale-battery-storage-is-on-the-rise \n",
        "- Es stellt sich heraus, dass es sogar **30% billiger ist** als Gaskraftwerke (https://www.pv-magazine.com/2021/04/12/battery-storage-systems-30-cheaper-than-rival-gas-peaker-plants-for-firming-renewables/) \n"
      ],
      "metadata": {
        "id": "5fFlBPj3uEtO"
      }
    },
    {
      "cell_type": "markdown",
      "source": [
        "## Sicherheit durch das europäische Stromnetz \n",
        "- Wir haben bereits das europäische Stromnetz: \n",
        "https://de.wikipedia.org/wiki/Europ%C3%A4isches_Verbundsystem\n",
        "* http://en.wikipedia.org/wiki/Synchronous_grid_of_Continental_Europe (englisch) ähnlich wie andere synchrone Netze in der Welt: \n",
        "* http://en.wikipedia.org/wiki/Wide_area_synchronous_grid* http://de.wikipedia.org/wiki/Wide_area_synchronous_grid\n",
        "- Dadurch werden die Schwankungen bei der Erzeugung erneuerbarer Energien ausgeglichen und der Bedarf an Stromspeichern verringert. \n",
        "- Weitere Hilfe wäre ein **Smart Grid** mit **Real Time Pricing** Informationen, um die Nachfrage nach Angebot zu beeinflussen (https://en.wikipedia.org/wiki/Smart_grid)."
      ],
      "metadata": {
        "id": "H5pF4_kHuEtO"
      }
    },
    {
      "cell_type": "markdown",
      "source": [
        "\n",
        "\n",
        "## Chance der Erneuerbaren Energie\n",
        "- Erneuerbare Energie gibt uns Energie Unabhängigkeit \n",
        "- was auch in Zeiten zunehmender politischer Instabilität und Unruhen in der Welt als Folge des Klimawandels wichtig ist. \n",
        "- Wir haben bereits die nötige Technologie, wir brauchen nur den politischen Willen, mein vorheriges Video zu sehen, \"Klimawandel berechnet 5\" \n",
        "- Wir haben genug Platz: \n",
        "- für Windkraft benötigen wir etwa 2-3% der landwirtschaftlichen Fläche, \n",
        "- für den Solarbereich benötigen wir den passenden Dachraum und etwas Platz im nicht mehr genutzten Kohlebergbau oder Braunkohle Tagebau. \n",
        "\n"
      ],
      "metadata": {
        "id": "QAlW78T5uEtO"
      }
    },
    {
      "cell_type": "markdown",
      "source": [
        "- Erneuerbare Energien sind viel billiger und viel schneller einzusetzen als z.B. Kernenergie (siehe Klimawandel 4) \n",
        "- Ein 4,5 MW Windkraftgenerator kann in 3 Wochen gebaut werden: \n",
        "  - https://www.handelsblatt.com/dreiwoechige-bauzeit-groesste-windkraftanlage-der-welt-entsteht-bei-magdeburg/2186154.html\n",
        "\n",
        "- Die meiste Zeitverschwendung sind politische **Regeln und Vorschriften**. \n",
        "- Idee: Es könnte **vorübergehend** Windkraftgeneratoren geben, um die Genehmigung** zu beschleunigen. \n"
      ],
      "metadata": {
        "id": "-PwzaFPSuEtO"
      }
    },
    {
      "cell_type": "markdown",
      "source": [
        "## Schlussfolgerungen \n",
        "* Fossile Brennstoffreserven fördern autokratische oder diktatorische Entwicklungen \n",
        "* Dies macht es auch gefährlich, sich auf sie zu verlassen \n",
        "* Dies ist ein Pluspunkt der globalen Erwärmung, die durch den raschen Anstieg der CO2-Emissionen der Welt verursacht wird \n",
        "* Erneuerbare Energie-Technologie ist bereits verfügbar, um fossile Brennstoffe schnell zu ersetzen, wie ich in früheren Episoden gezeigt habe \n",
        "* Erdgaskraftwerke können schnell durch Wind- und Solarenergie, Netzbatteriespeicher und ein intelligentes Netz ersetzt werden \n",
        "* Es braucht nur eine politische Unterstützung und Unterstützung, um solche Projekte zu ermöglichen und zu fördern \n",
        "* Daher müssen geeignete Gesetze und Vorschriften angepasst oder gemacht werden."
      ],
      "metadata": {
        "id": "p2z8QmaPuEtO"
      }
    }
  ]
}