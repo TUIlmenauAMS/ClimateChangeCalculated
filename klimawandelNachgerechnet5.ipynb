{
  "nbformat": 4,
  "nbformat_minor": 0,
  "metadata": {
    "colab": {
      "name": "klimawandelNachgerechnet5.ipynb",
      "provenance": [],
      "collapsed_sections": [],
      "authorship_tag": "ABX9TyO/C2VGGKngoOgN4RtfjNwk",
      "include_colab_link": true
    },
    "kernelspec": {
      "name": "python3",
      "display_name": "Python 3"
    }
  },
  "cells": [
    {
      "cell_type": "markdown",
      "metadata": {
        "id": "view-in-github",
        "colab_type": "text"
      },
      "source": [
        "<a href=\"https://colab.research.google.com/github/TUIlmenauAMS/ClimateChangeCalculated/blob/main/klimawandelNachgerechnet5.ipynb\" target=\"_parent\"><img src=\"https://colab.research.google.com/assets/colab-badge.svg\" alt=\"Open In Colab\"/></a>"
      ]
    },
    {
      "cell_type": "markdown",
      "metadata": {
        "id": "lU7YMfUdswAF"
      },
      "source": [
        "# <center>  Klimawandel Nachgerechnet 5\n",
        "## <center> Wie viel Platz brauchen wir für erneuerbare Energie?\n",
        "### <center> Prof. Dr.-Ing. G. Schuller\n",
        "### <center> Technical University Ilmenau\n",
        "### <center> Institute for Media Technology\n"
      ]
    },
    {
      "cell_type": "markdown",
      "metadata": {
        "id": "rlssJJP5tKHc"
      },
      "source": [
        "### Dieses Mal beantworten wir die Frage: Wie viel Platz brauchen wir?\n",
        "\n",
        "In Teil 4 haben wir die Frage beantwortet: Was können wir tun?\n",
        "* Dort sahen wir, dass erneuerbare Energie effizient und billig genug ist, um mit fossiler Energie zu konkurrieren und sie zu ersetzen.\n",
        "* Jetzt beantworten wir die Frage: Wie viel Platz wird sie benötigen?\n"
      ]
    },
    {
      "cell_type": "markdown",
      "metadata": {
        "id": "ElSj_B77EIQ3"
      },
      "source": [
        "## Klima:\n",
        "* Wir hatten 2019/20 einen ungewöhnlich warmen Winter, fast ohne Schnee und Frost.\n",
        "* Während der Corona-Restriktionen wurde die Luft merklich klarer. \n",
        "* Weniger Verschmutzung, mehr Sonnenschein.\n",
        "* Dies zeigt die kurzfristigen Auswirkungen der Luftverschmutzung (und deren Beseitigung)\n",
        "* Im Winter 20/21 hatten wir aufeinander folgende Extreme: Extreme Kälte und Schneefall, dann ungewöhnliche Wärme im Februar\n",
        "\n",
        "\n",
        "\n",
        "\n"
      ]
    },
    {
      "cell_type": "markdown",
      "metadata": {
        "id": "JTqLkKO5HKlY"
      },
      "source": [
        "* Ende Frühjahr und Sommer 2021 gab es schon extreme Temperaturen im Nordwesten der USA und in West-Kanada. Dort wurden fast 50 C erreicht, in Gegenden die normalerweise zu der Zeit unter 30C haben!\n",
        "* In Deutschland wechseln sich hohe Temperaturen und dauerhafter extremer Starkregen mit Überflutungs-Katastrophen wie im Westen Deutschlands ab.\n",
        "* Rekordwerte werden global nicht nur etwas übertroffen, sondern gleich erheblich! Ein Kennzeichen des Klimawandels.\n"
      ]
    },
    {
      "cell_type": "markdown",
      "metadata": {
        "id": "NDCZhljxHWSs"
      },
      "source": [
        "* Pandemien wie Corona Pandemie werden häufiger, als Folge des Klimawandels, weil durch ihn Habitate verschoben werden und neue Viren öfter auf neue Spezien überspringen.\n",
        "* Die MunicRe Rückversicherung berechnet die stark zunehmenden Kosten durch Wetterbedingte Naturkatastrophen von 1980 bis 2019:\n",
        "https://www.munichre.com/de/risiken/extremwetter.html\n",
        "* Das deutet nochmal auf die in meinen vorherigen Videos gezeigte Dringlichkeit, den globalen fossilen CO2 Ausstoss auf Null zu reduzieren. "
      ]
    },
    {
      "cell_type": "markdown",
      "metadata": {
        "id": "2SoAmP6y8EDa"
      },
      "source": [
        "## Was ist die Benötigte Fläche für erneuerbare Energien in Deutschland?\n",
        "* Gesamter Stromverbrauch von 2002 bis 2019 (dem Vor-Corona Jahr) und Anteil der Energiequellen:\n",
        "* [Fraunhofer ISE, Stromerzeugung 2019](https://www.ise.fraunhofer.de/content/dam/ise/de/documents/news/2019/Stromerzeugung_2019_2.pdf)\n",
        "* Das Diagramm auf S. 14 zeigt: Von 2002 bis 2019 nur ein geringer Anstieg von Stromerzeugung und -verbrauch.\n",
        "* Der Stromverbrauch hat in den letzten Jahren teils sogar **abgenommen**!"
      ]
    },
    {
      "cell_type": "markdown",
      "metadata": {
        "id": "cKV6qCeSExfN"
      },
      "source": [
        "* Für eine Schätzung auch der Zukunft könnten wir daher die Werte von 2019 verwenden.\n",
        "* 2019: Stromerzeugung insgesamt (S. 13) **515 TWh**.\n",
        "* Davon erneuerbare Energiequellen : 237 TWh, \n",
        "* davon 127 TWh Wind- und 47 TWh Solarenergie.\n",
        "\n",
        "\n"
      ]
    },
    {
      "cell_type": "markdown",
      "metadata": {
        "id": "LvO8UqQYNWBL"
      },
      "source": [
        "* Es gab jedoch kürzlich (Juli 2021) eine Abschätzung des Stromverbrauchs in 2030 durch die Bundesregierung:\n",
        "[BMWI](https://www.bmwi.de/Redaktion/DE/Pressemitteilungen/2021/07/20210713-erste-abschaetzungen-stromverbrauch-2030.html)\n",
        "* Ergebnis: \"der Mittelwert der Prognose liegt bei **655 Terawattstunden**. Unterstellt werden dabei u.a. 14 Mio. Elektro-Pkw, 6 Mio. Wärmepumpen und 30 Terawattstunden Strom für grünen Wasserstoff.\" \n",
        "* D.h. wir brauchen bis 2030 die Differenz des progostizierten Verbrauchs zur gegenwärtig erzeugten erneuerbaren Energie, 655 - 237 = **418 TWh** zusätzlich.\n",
        "\n",
        "**Notation:** \n",
        "* **1 kWh** (Kilo Watt Stunde) = 1000 Wh = 10³ Wh =1e3 Wh\n",
        "* **1 TWh** (Terra Watt Stunde) = 10¹² Wh = 1e12 Wh\n"
      ]
    },
    {
      "cell_type": "markdown",
      "metadata": {
        "id": "bRWDHIeTdc6J"
      },
      "source": [
        "## Ertragsrisiken von erneuerbaren Energien\n",
        "* Erneuerbare Energien sind am zuverlässigsten bei Verteilung auf **verschiedene Energiequellen, wie Wind und Sonne**,\n",
        "* auch als saisonaler Ausgleich\n",
        "* und bei geographischer Diversität, also der Nutzung des **Europäischen Stromverbundnetzes**.\n",
        "* Siehe auch: [Deutscher Wetter Dienst, Pressemitteilung 2018-03-06 Klima](https://www.dwd.de/DE/presse/pressemitteilungen/DE/2018/20180306_pressemitteilung_klima_pk_news.html)\n",
        "* Daher meine **Annahme:** *Photovoltaik und Windenergie sollen jeweils 50% übernehmen*, also je 418/2= **209 TWh/Jahr**, \n"
      ]
    },
    {
      "cell_type": "markdown",
      "metadata": {
        "id": "yw5z8iEmZIaQ"
      },
      "source": [
        "## Energieertrag pro Quadratmeter Solarzellen:"
      ]
    },
    {
      "cell_type": "code",
      "metadata": {
        "colab": {
          "base_uri": "https://localhost:8080/",
          "height": 925
        },
        "id": "LiAZMEBoY5_s",
        "outputId": "b3cf1ded-6f04-4c8c-cbcb-68308927f921"
      },
      "source": [
        "%%html\n",
        "<iframe src=\"https://www.energie-experten.org/erneuerbare-energien/photovoltaik/planung/ertrag.html#c27405\" width=\"900\" height=\"900\"></iframe>"
      ],
      "execution_count": null,
      "outputs": [
        {
          "output_type": "display_data",
          "data": {
            "text/html": [
              "<iframe src=\"https://www.energie-experten.org/erneuerbare-energien/photovoltaik/planung/ertrag.html#c27405\" width=\"900\" height=\"900\"></iframe>"
            ],
            "text/plain": [
              "<IPython.core.display.HTML object>"
            ]
          },
          "metadata": {
            "tags": []
          }
        }
      ]
    },
    {
      "cell_type": "markdown",
      "metadata": {
        "id": "KcEHUBJeaDK_"
      },
      "source": [
        "* Also Globalstrahlung in Deutschland: Ca. **1000 kWh/qm pro Jahr**\n",
        "* Wirkungsgrad von modernen Solarzellen: ca. 20%\n",
        "* Also Energie pro Fläche pro Jahr: Ca. **200 kWh/qm pro Jahr**.\n",
        "\n",
        "<!-- * Die nötige Fläche berechnet sich zu: benötigte Energie pro Jahr / Energie pro Fläche pro Jahr. -->\n",
        "<!-- * Wir nutzen \"Python Sympy\" für das Rechnen mit Einheiten, auch als Prüfung der Richtigkeit der Rechnung: -->"
      ]
    },
    {
      "cell_type": "markdown",
      "metadata": {
        "id": "WcTCMaqY68c3"
      },
      "source": [
        "## Flächenbedarf Solarzellen für 209 TWh pro Jahr\n",
        "Flaechenbedarf = Energie pro Jahr geteilt durch Energie pro Fläche pro Jahr = "
      ]
    },
    {
      "cell_type": "code",
      "metadata": {
        "colab": {
          "base_uri": "https://localhost:8080/"
        },
        "id": "Njtvp6WwqUZv",
        "outputId": "cfa9905d-1567-4cc6-96f5-fad683de62b7"
      },
      "source": [
        "#@title  {display-mode: \"form\"}\n",
        "import sympy\n",
        "W=sympy.symbols(\"W\") #unit \"Watt\"\n",
        "h=sympy.symbols(\"h\") #unit \"hour\"\n",
        "yr=sympy.symbols(\"yr\") #unit \"Year\"\n",
        "m=sympy.symbols(\"m\") #unit \"meter\"\n",
        "EpAY= 200e3*W*h/(m**2)/yr #Energy per area per year\n",
        "EpY=209e12*W*h/yr #desired Energy per year\n",
        "print(\" = \",EpY,\"/\",EpAY, \" =\", EpY/EpAY)\n",
        "#print(\"Flaechenbedarf ist Energie pro Jahr geteilt durch Energie pro Fläche pro Jahr:\") )"
      ],
      "execution_count": null,
      "outputs": [
        {
          "output_type": "stream",
          "text": [
            " =  209000000000000.0*W*h/yr / 200000.0*W*h/(m**2*yr)  = 1045000000.0*m**2\n"
          ],
          "name": "stdout"
        }
      ]
    },
    {
      "cell_type": "markdown",
      "metadata": {
        "id": "8cKZmy8Argrh"
      },
      "source": [
        "* Prüfung: Die resultierende Einheit (m²) ist korrekt (\"m**2\" bedeutet m² in Python)\n",
        "* 10⁶ m² sind 1 Quadratkilometer (km²)\n",
        "* Dies sind also 1045 km². \n",
        "* Diese Fläche liesse sich leicht z.B. in den dann **stillgelegten deutschen Braunkohletagebauten** unterbringen, denn: \n",
        "* \"Der Flächenverbrauch der deutschen Braunkohletagebauten betrug mit Stand 2006 mehr als **2300 km²**\", sh.:"
      ]
    },
    {
      "cell_type": "code",
      "metadata": {
        "colab": {
          "base_uri": "https://localhost:8080/",
          "height": 625
        },
        "id": "bleSaTN8rt55",
        "outputId": "7efd9ff4-0cf5-4f49-e268-9f4be7b0fcf6"
      },
      "source": [
        "%%html\n",
        "<iframe src=\"https://de.wikipedia.org/wiki/Braunkohlebergbau\" width=\"900\" height=\"600\"></iframe>"
      ],
      "execution_count": null,
      "outputs": [
        {
          "output_type": "display_data",
          "data": {
            "text/html": [
              "<iframe src=\"https://de.wikipedia.org/wiki/Braunkohlebergbau\" width=\"900\" height=\"600\"></iframe>"
            ],
            "text/plain": [
              "<IPython.core.display.HTML object>"
            ]
          },
          "metadata": {
            "tags": []
          }
        }
      ]
    },
    {
      "cell_type": "markdown",
      "metadata": {
        "id": "rkwPxKhYOKbH"
      },
      "source": [
        "* Die nötigen Solarzellen liessen sich aber auch auf **Dächern** installieren\n",
        "* Ein grosser Vorteil grade von Sonnenenergie ist ihre **Dezentralität**. Häuser lassen sich damit Energieautark betreiben.\n",
        "* Fuer Solarzellen geeignete **Dachflaechen** in Deutschland summieren sich auf ca. 800 Mio. qm, nach\n",
        "“Erneuerbare Energieträger in Deutschland: Potentiale und Kosten”,\n",
        "edited by Martin Kaltschmitt, Andreas Wiese, 1993,\n",
        "ISBN 978-3-642-93541-1, \n",
        "* 800 Mio. qm sind **800 qkm**, die Flaeche ist also fast benötigten 1045 qkm.\n"
      ]
    },
    {
      "cell_type": "markdown",
      "metadata": {
        "id": "6uqsmBxFzRuj"
      },
      "source": [
        "## Flächenbedarf Windenergie\n",
        "<!--\n",
        "**Füllung der andere Hälfte der Lücke von 56.5 TWh/Jahr durch Windenergie:**\n",
        "* Flaechenbedarf Windenergie. \n",
        "-->"
      ]
    },
    {
      "cell_type": "markdown",
      "metadata": {
        "id": "hP4f7ZVn7w-6"
      },
      "source": [
        "* [Umweltbundesamt, Potential der Windenergie](https://www.umweltbundesamt.de/sites/default/files/medien/378/publikationen/potenzial_der_windenergie.pdf)\n",
        "* Kap. 4.1, S.16: \" wurde hier vereinfachend von einem radialen Anlagenabstand\n",
        "in Höhe des 4-fachen Rotordurchmessers ausgegangen. Maßgeblich bei der Platzierung\n",
        "ist hierbei der Rotordurchmesser der Schwachwindanlage. Der radiale Anlagenabstand\n",
        "beträgt damit **456 m**.\"\n",
        "* Bei einer quadratischen Anordnung entspricht dies einer Fläche von **456² qm =207936 qm**\n",
        "* Seite 15: Leistung je Windenergie Anlage: **3.2 MW = 3.2e6 W**\n",
        "* In der Zusammenfassung, Seite 2: \" ... im\n",
        "bundesweiten Mittel **2440 Volllaststunden pro Jahr** ...\"\n",
        "<!-- * **Ergebnis:** Energie pro Jahr pro qm = **37.55 kWh/qm pro Jahr** -->\n",
        "\n"
      ]
    },
    {
      "cell_type": "markdown",
      "metadata": {
        "id": "zjPA-kWY7lvF"
      },
      "source": [
        "## Windkraft Energie pro qm pro Jahr\n",
        "Energie pro qm pro Jahr = Leistung mal Vollaststunden pro Jahr geteilt durch Flaeche =  "
      ]
    },
    {
      "cell_type": "code",
      "metadata": {
        "colab": {
          "base_uri": "https://localhost:8080/"
        },
        "id": "GnLjttb6JZRQ",
        "outputId": "6ef852ba-8a11-4f7b-d4bc-b1069e2b2b2f"
      },
      "source": [
        "#@title  {display-mode: \"form\"}\n",
        "import sympy\n",
        "m=sympy.symbols(\"m\") #unit \"meter\"\n",
        "W=sympy.symbols(\"W\") #unit \"Watt\"\n",
        "h=sympy.symbols(\"h\") #unit \"hour\"\n",
        "yr=sympy.symbols(\"yr\") #unit \"Year\"\n",
        "P=3.2e6*W #Power of win turbine\n",
        "fr=2440*h/yr # Hours per year of this power (fraction)\n",
        "A=456**2*m**2 #Area covered by wind turbine\n",
        "EpAYwind=P*fr/A\n",
        "print(P,\"*\", fr, \"/\", A,\" = \", EpAYwind)\n",
        "#print(\"Die Energie in Wh geteilt durch die Stunden im Jahr ergibt die Leistung, in Watt pro qm \")"
      ],
      "execution_count": null,
      "outputs": [
        {
          "output_type": "stream",
          "text": [
            "3200000.0*W * 2440*h/yr / 207936*m**2  =  37550.0153893506*W*h/(m**2*yr)\n"
          ],
          "name": "stdout"
        }
      ]
    },
    {
      "cell_type": "markdown",
      "metadata": {
        "id": "gr5RwcP_7vvG"
      },
      "source": [
        "Also 37550 Wh pro Jahr pro qm.\n",
        "## Nötige Fläche für 209 TWh Windkraft pro Jahr:\n",
        "Nötige Fläche = benötigte Energie pro Jahr geteilt durch Energie pro Jahr pro qm = "
      ]
    },
    {
      "cell_type": "code",
      "metadata": {
        "colab": {
          "base_uri": "https://localhost:8080/"
        },
        "id": "42_9B4BAQTMh",
        "outputId": "fb2290aa-564f-47eb-aee8-2badb1fcae74"
      },
      "source": [
        "#@title {display-mode: \"form\"} \n",
        "print(\" = \", EpY, \"/\", EpAYwind, \" = \",  EpY/ EpAYwind)"
      ],
      "execution_count": null,
      "outputs": [
        {
          "output_type": "stream",
          "text": [
            " =  209000000000000.0*W*h/yr / 37550.0153893506*W*h/(m**2*yr)  =  5565909836.06557*m**2\n"
          ],
          "name": "stdout"
        }
      ]
    },
    {
      "cell_type": "markdown",
      "metadata": {
        "id": "4-kqoHm9ZF6i"
      },
      "source": [
        "* Dies ist ca. 5566 quadratkilometer.\n",
        "* Die Gesamtfläche Deutschlands ist 357386 qkm, die zusätzlich nötige Fläche für Windkraft ist also ca. 1.6% davon. \n",
        "* Ca. die Hälfte der Fläche Deutschlands ist Ackerfläche, d.h. es wäre zusätzlich nur ca. 3% der Ackerfläche."
      ]
    },
    {
      "cell_type": "markdown",
      "metadata": {
        "id": "qrvtToIwK_NE"
      },
      "source": [
        "## Schlussfolgerungen\n",
        "* Die benötigte erneuerbare Energie für den prognostizierten Bedarf in 2030 lässt sich **praktikabel im Land erzeugen**.\n",
        "* Für die Fläche der Solarzellen würden die stillgelegten **Braunkohletagebauten** mehr als ausreichen.\n",
        "* Die **geeigneten Dachflächen** würden fast vollständig ausreichen\n",
        "* Fuer die Windkraft reichen zusätzlich **3% der Ackerfläche**, die aber trotzdem noch für Ackerbau zur Verfügung steht.\n"
      ]
    },
    {
      "cell_type": "markdown",
      "metadata": {
        "id": "BhhK_idjRpl-"
      },
      "source": [
        "* Zum Ausgleich der Schwankungen von Wind und Sonne werden Speicher gebraucht\n",
        "* Mehr dazu in einer folgenden Episode"
      ]
    },
    {
      "cell_type": "markdown",
      "metadata": {
        "id": "iz_kdyU1vZC9"
      },
      "source": [
        "<!--\n",
        "* Durschnittsleistung neuer Windanlagen: 3.34 MW\n",
        "* Nutzungsgrad: 16-57%\n",
        "* \"Moderne Schwachwindanlagen haben mittlerweile Rotordurchmesser bis über 140 Meter und Nabenhöhen bis über 160 Meter.\"\n",
        "-->\n",
        "<!---* \"Dauerhaft muss für eine aktuelle Windkraftanlage der Drei-Megawatt-Klasse eine befestigte aber unversiegelte Fläche von etwa 2.500 m² für die Wartung frei und zugänglich bleiben. \" --->"
      ]
    },
    {
      "cell_type": "markdown",
      "metadata": {
        "id": "Noat5i2sxwT3"
      },
      "source": [
        "<!--\n",
        "Mittlerer Abstand: 5*140 m \n",
        "Mittlerer Nutzungsgrad: 0.3\n",
        "Also Leistung pro Fläche...\n",
        "-->"
      ]
    }
  ]
}